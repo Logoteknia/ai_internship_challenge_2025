{
 "cells": [
  {
   "cell_type": "markdown",
   "id": "63e09b05",
   "metadata": {},
   "source": [
    "# AI Internship Challenge (Notebook Edition)\n",
    "\n",
    "Complete the pipeline:\n",
    "1. Load each image from `/data/`\n",
    "2. Extract visible Finnish text\n",
    "3. Translate it to English (offline model)\n",
    "4. Render the translated text back onto the image\n",
    "5. Save to `/output/`\n",
    "\n",
    "You may use any open-source libraries that run fully offline.\n",
    "Example: `pytesseract`, `transformers`, `PIL`, etc.\n",
    "\n",
    "Make sure your solution runs **without proprietary APIs or cloud keys**!"
   ]
  },
  {
   "cell_type": "code",
   "execution_count": null,
   "id": "14c9d039",
   "metadata": {},
   "outputs": [],
   "source": [
    "# Install dependencies (if needed)\n",
    "%pip install transformers datasets pytesseract pillow sacrebleu\n",
    "# And install tesseract if not preinstalled:\n",
    "# !apt-get install tesseract-ocr -y"
   ]
  },
  {
   "cell_type": "code",
   "execution_count": null,
   "id": "85a67205",
   "metadata": {},
   "outputs": [],
   "source": [
    "# Import necessary libraries here as needed\n",
    "from PIL import Image  # example\n",
    "# import pytesseract, transformers, etc."
   ]
  },
  {
   "cell_type": "code",
   "execution_count": null,
   "id": "f4522492",
   "metadata": {},
   "outputs": [],
   "source": [
    "def extract_text(image_path):\n",
    "    # TODO: Perform OCR on the image (e.g. pytesseract)\n",
    "    raise NotImplementedError"
   ]
  },
  {
   "cell_type": "code",
   "execution_count": null,
   "id": "712c2bf4",
   "metadata": {},
   "outputs": [],
   "source": [
    "def translate_text(text):\n",
    "    # TODO: Translate Finnish to English using a local model (e.g. Helsinki-NLP/opus-mt-fi-en)\n",
    "    raise NotImplementedError"
   ]
  },
  {
   "cell_type": "markdown",
   "id": "80eb3df9",
   "metadata": {},
   "source": [
    "💡 Now implement the layout-aware rendering, and loop through the `/data/` folder as in the plain script."
   ]
  },
  {
   "cell_type": "code",
   "execution_count": null,
   "id": "546a1d9d",
   "metadata": {},
   "outputs": [],
   "source": [
    "def render_translated_text(image_path, translated_blocks):\n",
    "    # TODO: Reinsert translated text into the image and save result\n",
    "    raise NotImplementedError"
   ]
  },
  {
   "cell_type": "code",
   "execution_count": null,
   "id": "dc561a8f",
   "metadata": {},
   "outputs": [],
   "source": [
    "def main():\n",
    "    # TODO: Loop through images in /data/, call extract -> translate -> render for each\n",
    "    # Save output to /output/image_xx_en.png\n",
    "    pass\n",
    "\n",
    "main()"
   ]
  },
  {
   "cell_type": "code",
   "execution_count": null,
   "id": "d15bdd28",
   "metadata": {},
   "outputs": [],
   "source": [
    "# Optional: Export this notebook as challenge.py\n",
    "!jupyter nbconvert --to script challenge.ipynb --output challenge.py\n"
   ]
  }
 ],
 "metadata": {
  "kernelspec": {
   "display_name": "Python 3",
   "language": "python",
   "name": "python3"
  },
  "language_info": {
   "name": "python",
   "version": ""
  }
 },
 "nbformat": 4,
 "nbformat_minor": 5
}
